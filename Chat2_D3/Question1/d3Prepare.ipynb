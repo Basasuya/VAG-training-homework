{
 "cells": [
  {
   "cell_type": "code",
   "execution_count": 77,
   "metadata": {},
   "outputs": [],
   "source": [
    "import pandas as pd\n",
    "\n",
    "top250_df = pd.read_csv(\"top250.csv\", sep='\t')\n"
   ]
  },
  {
   "cell_type": "code",
   "execution_count": 47,
   "metadata": {},
   "outputs": [],
   "source": [
    "director = top250_df['director'].value_counts().sort_values(ascending=False)[:10]"
   ]
  },
  {
   "cell_type": "code",
   "execution_count": 48,
   "metadata": {},
   "outputs": [],
   "source": [
    "a = director.tolist()\n",
    "b = director.index.tolist()"
   ]
  },
  {
   "cell_type": "code",
   "execution_count": 49,
   "metadata": {},
   "outputs": [
    {
     "name": "stdout",
     "output_type": "stream",
     "text": [
      "宫崎骏 7\n",
      "克里斯托弗·诺兰 7\n",
      "史蒂文·斯皮尔伯格 6\n",
      "王家卫 5\n",
      "李安 4\n",
      "昆汀·塔伦蒂诺 3\n",
      "刘镇伟 3\n",
      "弗朗西斯·福特·科波拉 3\n",
      "詹姆斯·卡梅隆 3\n",
      "姜文 3\n"
     ]
    }
   ],
   "source": [
    "dic = []\n",
    "for name, number in zip(b, a):\n",
    "    dic.append({'name': name, 'number': number})\n",
    "    print(name, number)"
   ]
  },
  {
   "cell_type": "code",
   "execution_count": 50,
   "metadata": {},
   "outputs": [],
   "source": [
    "import json\n",
    "with open('director.json', 'w') as f:\n",
    "    json.dump(dic, f)"
   ]
  },
  {
   "cell_type": "code",
   "execution_count": 78,
   "metadata": {},
   "outputs": [],
   "source": [
    "yearCount = top250_df['year'].value_counts().sort_index()\n",
    "\n",
    "# dic = []\n",
    "# for name, number in zip(b, a):\n",
    "#     dic.append({'year': name, 'number': number})\n",
    "# #     print(name, number)"
   ]
  },
  {
   "cell_type": "code",
   "execution_count": 88,
   "metadata": {},
   "outputs": [],
   "source": [
    "a = yearCount.tolist()\n",
    "b = yearCount.index.tolist()\n",
    "arrd = {}\n",
    "for name, number in zip(b, a):\n",
    "    arrd[name] = number  \n",
    "# arrd\n",
    "dic = []\n",
    "for i in range(1931, 2016):\n",
    "    if(arrd.__contains__(i) == False):\n",
    "        dic.append({'year': i, 'number': 0})\n",
    "    else:\n",
    "        dic.append({'year': i, 'number': arrd[i]})"
   ]
  },
  {
   "cell_type": "code",
   "execution_count": 89,
   "metadata": {},
   "outputs": [
    {
     "data": {
      "text/plain": [
       "[{'number': 1, 'year': 1931},\n",
       " {'number': 0, 'year': 1932},\n",
       " {'number': 0, 'year': 1933},\n",
       " {'number': 0, 'year': 1934},\n",
       " {'number': 0, 'year': 1935},\n",
       " {'number': 1, 'year': 1936},\n",
       " {'number': 0, 'year': 1937},\n",
       " {'number': 0, 'year': 1938},\n",
       " {'number': 1, 'year': 1939},\n",
       " {'number': 1, 'year': 1940},\n",
       " {'number': 0, 'year': 1941},\n",
       " {'number': 1, 'year': 1942},\n",
       " {'number': 0, 'year': 1943},\n",
       " {'number': 0, 'year': 1944},\n",
       " {'number': 0, 'year': 1945},\n",
       " {'number': 0, 'year': 1946},\n",
       " {'number': 0, 'year': 1947},\n",
       " {'number': 0, 'year': 1948},\n",
       " {'number': 0, 'year': 1949},\n",
       " {'number': 1, 'year': 1950},\n",
       " {'number': 0, 'year': 1951},\n",
       " {'number': 1, 'year': 1952},\n",
       " {'number': 2, 'year': 1953},\n",
       " {'number': 1, 'year': 1954},\n",
       " {'number': 0, 'year': 1955},\n",
       " {'number': 0, 'year': 1956},\n",
       " {'number': 2, 'year': 1957},\n",
       " {'number': 0, 'year': 1958},\n",
       " {'number': 0, 'year': 1959},\n",
       " {'number': 1, 'year': 1960},\n",
       " {'number': 1, 'year': 1961},\n",
       " {'number': 0, 'year': 1962},\n",
       " {'number': 0, 'year': 1963},\n",
       " {'number': 0, 'year': 1964},\n",
       " {'number': 1, 'year': 1965},\n",
       " {'number': 2, 'year': 1966},\n",
       " {'number': 0, 'year': 1967},\n",
       " {'number': 0, 'year': 1968},\n",
       " {'number': 0, 'year': 1969},\n",
       " {'number': 0, 'year': 1970},\n",
       " {'number': 1, 'year': 1971},\n",
       " {'number': 1, 'year': 1972},\n",
       " {'number': 0, 'year': 1973},\n",
       " {'number': 1, 'year': 1974},\n",
       " {'number': 1, 'year': 1975},\n",
       " {'number': 0, 'year': 1976},\n",
       " {'number': 0, 'year': 1977},\n",
       " {'number': 0, 'year': 1978},\n",
       " {'number': 1, 'year': 1979},\n",
       " {'number': 1, 'year': 1980},\n",
       " {'number': 0, 'year': 1981},\n",
       " {'number': 1, 'year': 1982},\n",
       " {'number': 0, 'year': 1983},\n",
       " {'number': 2, 'year': 1984},\n",
       " {'number': 0, 'year': 1985},\n",
       " {'number': 2, 'year': 1986},\n",
       " {'number': 3, 'year': 1987},\n",
       " {'number': 5, 'year': 1988},\n",
       " {'number': 2, 'year': 1989},\n",
       " {'number': 4, 'year': 1990},\n",
       " {'number': 5, 'year': 1991},\n",
       " {'number': 2, 'year': 1992},\n",
       " {'number': 8, 'year': 1993},\n",
       " {'number': 12, 'year': 1994},\n",
       " {'number': 9, 'year': 1995},\n",
       " {'number': 5, 'year': 1996},\n",
       " {'number': 9, 'year': 1997},\n",
       " {'number': 6, 'year': 1998},\n",
       " {'number': 7, 'year': 1999},\n",
       " {'number': 9, 'year': 2000},\n",
       " {'number': 11, 'year': 2001},\n",
       " {'number': 10, 'year': 2002},\n",
       " {'number': 9, 'year': 2003},\n",
       " {'number': 12, 'year': 2004},\n",
       " {'number': 5, 'year': 2005},\n",
       " {'number': 10, 'year': 2006},\n",
       " {'number': 7, 'year': 2007},\n",
       " {'number': 9, 'year': 2008},\n",
       " {'number': 12, 'year': 2009},\n",
       " {'number': 13, 'year': 2010},\n",
       " {'number': 11, 'year': 2011},\n",
       " {'number': 5, 'year': 2012},\n",
       " {'number': 8, 'year': 2013},\n",
       " {'number': 8, 'year': 2014},\n",
       " {'number': 1, 'year': 2015}]"
      ]
     },
     "execution_count": 89,
     "metadata": {},
     "output_type": "execute_result"
    }
   ],
   "source": [
    "dic"
   ]
  },
  {
   "cell_type": "code",
   "execution_count": 90,
   "metadata": {},
   "outputs": [],
   "source": [
    "import json\n",
    "with open('year.json', 'w') as f:\n",
    "    json.dump(dic, f)"
   ]
  },
  {
   "cell_type": "code",
   "execution_count": 64,
   "metadata": {},
   "outputs": [],
   "source": [
    "placeCount = top250_df['country'].map(lambda x: str(x).split('/')[0]).value_counts().sort_index()\n"
   ]
  },
  {
   "cell_type": "code",
   "execution_count": 74,
   "metadata": {},
   "outputs": [],
   "source": [
    "a = placeCount.tolist()\n",
    "b = placeCount.index.tolist()\n",
    "dic = []\n",
    "for name, number in zip(b, a):\n",
    "    dic.append({'place': name, 'number': number})\n",
    "#     print(name, number)"
   ]
  },
  {
   "cell_type": "code",
   "execution_count": 76,
   "metadata": {},
   "outputs": [],
   "source": [
    "import json\n",
    "with open('place.json', 'w') as f:\n",
    "    json.dump(dic, f)"
   ]
  },
  {
   "cell_type": "code",
   "execution_count": null,
   "metadata": {},
   "outputs": [],
   "source": []
  }
 ],
 "metadata": {
  "kernelspec": {
   "display_name": "Python 3",
   "language": "python",
   "name": "python3"
  },
  "language_info": {
   "codemirror_mode": {
    "name": "ipython",
    "version": 3
   },
   "file_extension": ".py",
   "mimetype": "text/x-python",
   "name": "python",
   "nbconvert_exporter": "python",
   "pygments_lexer": "ipython3",
   "version": "3.6.4"
  }
 },
 "nbformat": 4,
 "nbformat_minor": 2
}
